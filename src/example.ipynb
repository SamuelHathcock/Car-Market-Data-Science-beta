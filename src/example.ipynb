{
 "metadata": {
  "language_info": {
   "codemirror_mode": {
    "name": "ipython",
    "version": 3
   },
   "file_extension": ".py",
   "mimetype": "text/x-python",
   "name": "python",
   "nbconvert_exporter": "python",
   "pygments_lexer": "ipython3",
   "version": "3.8.5"
  },
  "orig_nbformat": 2,
  "kernelspec": {
   "name": "python385jvsc74a57bd04047d8b07e53f5c2fa58e1a6eef01dd27ba3cc4d3b60a086e986adf8be10e249",
   "display_name": "Python 3.8.5 64-bit ('env': venv)"
  },
  "metadata": {
   "interpreter": {
    "hash": "6762e4d701cd62703bea826587c911fd3c0934eaad31ef86a6400d91a71957fd"
   }
  }
 },
 "nbformat": 4,
 "nbformat_minor": 2,
 "cells": [
  {
   "cell_type": "code",
   "execution_count": 85,
   "metadata": {},
   "outputs": [],
   "source": [
    "import requests\n",
    "from bs4 import BeautifulSoup\n",
    "\n",
    "URL = \"https://phoenix.craigslist.org/d/cars-trucks-by-owner/search/cto?postal=85249&search_distance=50\"\n",
    "page = requests.get(URL)"
   ]
  },
  {
   "cell_type": "code",
   "execution_count": 86,
   "metadata": {},
   "outputs": [
    {
     "output_type": "stream",
     "name": "stdout",
     "text": [
      "200\n"
     ]
    }
   ],
   "source": [
    "print(page.status_code)"
   ]
  },
  {
   "cell_type": "code",
   "execution_count": 87,
   "metadata": {},
   "outputs": [],
   "source": [
    "soup = BeautifulSoup(page.content, \"html.parser\")"
   ]
  },
  {
   "cell_type": "code",
   "execution_count": 88,
   "metadata": {
    "tags": [
     "outputPrepend"
    ]
   },
   "outputs": [
    {
     "output_type": "stream",
     "name": "stdout",
     "text": [
      "  </span>\n    <span aria-hidden=\"true\" class=\"unbanish icon icon-trash red\" role=\"button\">\n    </span>\n    <a class=\"restore-link\" href=\"#\">\n     <span class=\"restore-narrow-text\">\n      restore\n     </span>\n     <span class=\"restore-wide-text\">\n      restore this posting\n     </span>\n    </a>\n   </span>\n  </div>\n </li>\n <li class=\"result-row\" data-pid=\"7326062265\">\n  <a class=\"result-image gallery\" data-ids=\"3:00N0N_e6RFoCcfqPxz_0CI0t2,3:00707_5S2HEFVVvmhz_0CI0t2,3:00V0V_bLlTEoDZeBxz_0CI0t2,3:00Y0Y_bbVA9e4JiWIz_0CI0t2,3:00k0k_bwPptrFHdS1z_0CI0t2,3:00d0d_h8KGYJsWOaIz_0CI0t2,3:00404_3bjvLuc6ZXjz_0CI0t2,3:00W0W_fwr2ehKHyKWz_0CI0t2,3:00404_98FzVY3gu46z_0CI0t2,3:00C0C_cmzD9CSjiFLz_0CI0t2\" href=\"https://phoenix.craigslist.org/evl/cto/d/gilbert-2017-toyota-tacoma/7326062265.html\">\n   <span class=\"result-price\">\n    $23,900\n   </span>\n  </a>\n  <div class=\"result-info\">\n   <span class=\"icon icon-star\" role=\"button\">\n    <span class=\"screen-reader-text\">\n     favorite this post\n    </span>\n   </span>\n   <time class=\"result-date\" datetime=\"2021-05-23 15:34\" title=\"Sun 23 May 03:34:27 PM\">\n    May 23\n   </time>\n   <h3 class=\"result-heading\">\n    <a class=\"result-title hdrlnk\" data-id=\"7326062265\" href=\"https://phoenix.craigslist.org/evl/cto/d/gilbert-2017-toyota-tacoma/7326062265.html\" id=\"postid_7326062265\">\n     2017 Toyota Tacoma\n    </a>\n   </h3>\n   <span class=\"result-meta\">\n    <span class=\"result-price\">\n     $23,900\n    </span>\n    <span class=\"result-hood\">\n     (Great Work Truck Very Clean)\n    </span>\n    <span class=\"result-tags\">\n     <span class=\"pictag\">\n      pic\n     </span>\n     <span class=\"maptag\">\n      4.3mi\n     </span>\n    </span>\n    <span class=\"banish icon icon-trash\" role=\"button\">\n     <span class=\"screen-reader-text\">\n      hide this posting\n     </span>\n    </span>\n    <span aria-hidden=\"true\" class=\"unbanish icon icon-trash red\" role=\"button\">\n    </span>\n    <a class=\"restore-link\" href=\"#\">\n     <span class=\"restore-narrow-text\">\n      restore\n     </span>\n     <span class=\"restore-wide-text\">\n      restore this posting\n     </span>\n    </a>\n   </span>\n  </div>\n </li>\n <li class=\"result-row\" data-pid=\"7327126309\">\n  <a class=\"result-image gallery\" data-ids=\"3:00d0d_cKCvSBIroecz_07K0ak,3:00l0l_4lHZYF3LxHvz_07K0ak,3:00606_ivhiNX1GsXYz_07K0ak,3:00S0S_fOvtmxVeacfz_07K0ak,3:00q0q_4kvAtfH0lZkz_07K0ak,3:00000_diNjkoHivVpz_07K0ak,3:01616_3JTIxUn4jCGz_07K0ak,3:00w0w_5aiwSXIGcG5z_07K0ak,3:00e0e_7II9cfcKl8oz_07K0ak,3:00C0C_lzILLohVp6qz_07K0ak,3:00o0o_6oznxPpmavWz_07K0ak\" href=\"https://phoenix.craigslist.org/evl/cto/d/gilbert-2019-ford-mustang-convertible/7327126309.html\">\n   <span class=\"result-price\">\n    $26,000\n   </span>\n  </a>\n  <div class=\"result-info\">\n   <span class=\"icon icon-star\" role=\"button\">\n    <span class=\"screen-reader-text\">\n     favorite this post\n    </span>\n   </span>\n   <time class=\"result-date\" datetime=\"2021-05-25 17:25\" title=\"Tue 25 May 05:25:35 PM\">\n    May 25\n   </time>\n   <h3 class=\"result-heading\">\n    <a class=\"result-title hdrlnk\" data-id=\"7327126309\" href=\"https://phoenix.craigslist.org/evl/cto/d/gilbert-2019-ford-mustang-convertible/7327126309.html\" id=\"postid_7327126309\">\n     2019 Ford Mustang Convertible\n    </a>\n   </h3>\n   <span class=\"result-meta\">\n    <span class=\"result-price\">\n     $26,000\n    </span>\n    <span class=\"result-hood\">\n     (Gilbert, AZ)\n    </span>\n    <span class=\"result-tags\">\n     <span class=\"pictag\">\n      pic\n     </span>\n     <span class=\"maptag\">\n      4.3mi\n     </span>\n    </span>\n    <span class=\"banish icon icon-trash\" role=\"button\">\n     <span class=\"screen-reader-text\">\n      hide this posting\n     </span>\n    </span>\n    <span aria-hidden=\"true\" class=\"unbanish icon icon-trash red\" role=\"button\">\n    </span>\n    <a class=\"restore-link\" href=\"#\">\n     <span class=\"restore-narrow-text\">\n      restore\n     </span>\n     <span class=\"restore-wide-text\">\n      restore this posting\n     </span>\n    </a>\n   </span>\n  </div>\n </li>\n <li class=\"result-row\" data-pid=\"7327978228\">\n  <a class=\"result-image gallery\" data-ids=\"3:01717_ka5I8pXM6X3z_0CI0t2,3:00B0B_gxdYnvni0Lhz_0CI0t2,3:00G0G_hvrgu5SSTkvz_0CI0t2,3:00x0x_9unq9cmseRtz_0CI0t2,3:01717_97HzzdavKqZz_0CI0t2,3:00Y0Y_5Y1Mv8QlGXhz_0CI0t2,3:00909_lfI7H3GXYX0z_0CI0t2,3:00P0P_2TDo6NSQRkcz_0CI0t2,3:01515_5YGJVMdHB9Qz_0lM0t2,3:00404_7Vml3GS9xHbz_0CI0t2,3:00x0x_f3GyGoOP5bvz_0CI0t2\" href=\"https://phoenix.craigslist.org/evl/cto/d/gilbert-2013-ford-150-xlt-4x4/7327978228.html\">\n   <span class=\"result-price\">\n    $14,999\n   </span>\n  </a>\n  <div class=\"result-info\">\n   <span class=\"icon icon-star\" role=\"button\">\n    <span class=\"screen-reader-text\">\n     favorite this post\n    </span>\n   </span>\n   <time class=\"result-date\" datetime=\"2021-05-27 12:34\" title=\"Thu 27 May 12:34:35 PM\">\n    May 27\n   </time>\n   <h3 class=\"result-heading\">\n    <a class=\"result-title hdrlnk\" data-id=\"7327978228\" href=\"https://phoenix.craigslist.org/evl/cto/d/gilbert-2013-ford-150-xlt-4x4/7327978228.html\" id=\"postid_7327978228\">\n     2013 Ford F-150 XLT 4x4\n    </a>\n   </h3>\n   <span class=\"result-meta\">\n    <span class=\"result-price\">\n     $14,999\n    </span>\n    <span class=\"result-hood\">\n     (Gilbert)\n    </span>\n    <span class=\"result-tags\">\n     <span class=\"pictag\">\n      pic\n     </span>\n     <span class=\"maptag\">\n      4.3mi\n     </span>\n    </span>\n    <span class=\"banish icon icon-trash\" role=\"button\">\n     <span class=\"screen-reader-text\">\n      hide this posting\n     </span>\n    </span>\n    <span aria-hidden=\"true\" class=\"unbanish icon icon-trash red\" role=\"button\">\n    </span>\n    <a class=\"restore-link\" href=\"#\">\n     <span class=\"restore-narrow-text\">\n      restore\n     </span>\n     <span class=\"restore-wide-text\">\n      restore this posting\n     </span>\n    </a>\n   </span>\n  </div>\n </li>\n <li class=\"result-row\" data-pid=\"7327995983\">\n  <a class=\"result-image gallery\" data-ids=\"3:00A0A_4WAwMMRDOiAz_0CI0t2,3:00P0P_lf8i3mtrHjMz_0CI0t2,3:00Q0Q_x65zRtFF9Rz_0CI0t2\" href=\"https://phoenix.craigslist.org/evl/cto/d/gilbert-2015-city-van-mechanic-special/7327995983.html\">\n   <span class=\"result-price\">\n    $6,950\n   </span>\n  </a>\n  <div class=\"result-info\">\n   <span class=\"icon icon-star\" role=\"button\">\n    <span class=\"screen-reader-text\">\n     favorite this post\n    </span>\n   </span>\n   <time class=\"result-date\" datetime=\"2021-05-27 13:06\" title=\"Thu 27 May 01:06:30 PM\">\n    May 27\n   </time>\n   <h3 class=\"result-heading\">\n    <a class=\"result-title hdrlnk\" data-id=\"7327995983\" href=\"https://phoenix.craigslist.org/evl/cto/d/gilbert-2015-city-van-mechanic-special/7327995983.html\" id=\"postid_7327995983\">\n     2015 city van mechanic special\n    </a>\n   </h3>\n   <span class=\"result-meta\">\n    <span class=\"result-price\">\n     $6,950\n    </span>\n    <span class=\"result-tags\">\n     <span class=\"pictag\">\n      pic\n     </span>\n     <span class=\"maptag\">\n      4.3mi\n     </span>\n    </span>\n    <span class=\"banish icon icon-trash\" role=\"button\">\n     <span class=\"screen-reader-text\">\n      hide this posting\n     </span>\n    </span>\n    <span aria-hidden=\"true\" class=\"unbanish icon icon-trash red\" role=\"button\">\n    </span>\n    <a class=\"restore-link\" href=\"#\">\n     <span class=\"restore-narrow-text\">\n      restore\n     </span>\n     <span class=\"restore-wide-text\">\n      restore this posting\n     </span>\n    </a>\n   </span>\n  </div>\n </li>\n <li class=\"result-row\" data-pid=\"7328467487\">\n  <a class=\"result-image gallery\" data-ids=\"3:00Y0Y_cY234UIAyxgz_0ww0oo\" href=\"https://phoenix.craigslist.org/evl/cto/d/gilbert-chevrolet-corvette-grand-sport/7328467487.html\">\n   <span class=\"result-price\">\n    $48,000\n   </span>\n  </a>\n  <div class=\"result-info\">\n   <span class=\"icon icon-star\" role=\"button\">\n    <span class=\"screen-reader-text\">\n     favorite this post\n    </span>\n   </span>\n   <time class=\"result-date\" datetime=\"2021-05-28 12:19\" title=\"Fri 28 May 12:19:49 PM\">\n    May 28\n   </time>\n   <h3 class=\"result-heading\">\n    <a class=\"result-title hdrlnk\" data-id=\"7328467487\" href=\"https://phoenix.craigslist.org/evl/cto/d/gilbert-chevrolet-corvette-grand-sport/7328467487.html\" id=\"postid_7328467487\">\n     Chevrolet Corvette Grand Sport LIKE NEW!\n    </a>\n   </h3>\n   <span class=\"result-meta\">\n    <span class=\"result-price\">\n     $48,000\n    </span>\n    <span class=\"result-hood\">\n     (Gilbert)\n    </span>\n    <span class=\"result-tags\">\n     <span class=\"pictag\">\n      pic\n     </span>\n     <span class=\"maptag\">\n      4.3mi\n     </span>\n    </span>\n    <span class=\"banish icon icon-trash\" role=\"button\">\n     <span class=\"screen-reader-text\">\n      hide this posting\n     </span>\n    </span>\n    <span aria-hidden=\"true\" class=\"unbanish icon icon-trash red\" role=\"button\">\n    </span>\n    <a class=\"restore-link\" href=\"#\">\n     <span class=\"restore-narrow-text\">\n      restore\n     </span>\n     <span class=\"restore-wide-text\">\n      restore this posting\n     </span>\n    </a>\n   </span>\n  </div>\n </li>\n <li class=\"result-row\" data-pid=\"7328993250\">\n  <a class=\"result-image gallery\" data-ids=\"3:00g0g_jqIHsptiq34z_0CI0t2,3:00202_a2QN03CAz9iz_0CI0t2,3:01414_1Qng5x5J5w8z_0CI0t2,3:00c0c_1R5pq2S3gZwz_0CI0t2,3:00f0f_iur5u5oCLEEz_0CI0t2,3:01010_eCeHkvWmc4pz_0CI0t2,3:00t0t_iFFbNBzlqRfz_0CI0t2,3:00G0G_lFtHcsmW3Pqz_0CI0t2,3:00505_4NCr0IzgBMsz_0CI0t2,3:01717_8Jws42FgokEz_0CI0t2,3:01515_6s1Ab7k8mfez_0CI0t2,3:00D0D_eBY152EMdkrz_0CI0t2,3:00707_j6VvG4Gvbd8z_0CI0t2,3:00H0H_c34x3iPtJ3Bz_0CI0t2,3:00g0g_fIrOZNF8qy1z_0CI0t2,3:00F0F_jd9YZR0gMtEz_0CI0t2,3:00z0z_2IpzY8VnFKrz_0CI0t2,3:00X0X_jVqf83xqv7mz_0CI0t2,3:00L0L_gIcQhDHxbhjz_0CI0t2,3:00H0H_3ruOlqiA08sz_0CI0t2,3:00z0z_lU0Q5fpEGIpz_0CI0t2,3:00F0F_3wHSPjkJAwVz_0t20CI,3:00606_fdgw1EwxaSfz_0CI0t2,3:00l0l_miJ0acKhHYz_0t20CI\" href=\"https://phoenix.craigslist.org/evl/cto/d/gilbert-2016-ford-150-lariat/7328993250.html\">\n   <span class=\"result-price\">\n    $45,000\n   </span>\n  </a>\n  <div class=\"result-info\">\n   <span class=\"icon icon-star\" role=\"button\">\n    <span class=\"screen-reader-text\">\n     favorite this post\n    </span>\n   </span>\n   <time class=\"result-date\" datetime=\"2021-05-29 13:42\" title=\"Sat 29 May 01:42:10 PM\">\n    May 29\n   </time>\n   <h3 class=\"result-heading\">\n    <a class=\"result-title hdrlnk\" data-id=\"7328993250\" href=\"https://phoenix.craigslist.org/evl/cto/d/gilbert-2016-ford-150-lariat/7328993250.html\" id=\"postid_7328993250\">\n     2016 Ford F-150 Lariat\n    </a>\n   </h3>\n   <span class=\"result-meta\">\n    <span class=\"result-price\">\n     $45,000\n    </span>\n    <span class=\"result-tags\">\n     <span class=\"pictag\">\n      pic\n     </span>\n     <span class=\"maptag\">\n      4.3mi\n     </span>\n    </span>\n    <span class=\"banish icon icon-trash\" role=\"button\">\n     <span class=\"screen-reader-text\">\n      hide this posting\n     </span>\n    </span>\n    <span aria-hidden=\"true\" class=\"unbanish icon icon-trash red\" role=\"button\">\n    </span>\n    <a class=\"restore-link\" href=\"#\">\n     <span class=\"restore-narrow-text\">\n      restore\n     </span>\n     <span class=\"restore-wide-text\">\n      restore this posting\n     </span>\n    </a>\n   </span>\n  </div>\n </li>\n <li class=\"result-row\" data-pid=\"7329971726\">\n  <a class=\"result-image gallery empty\" href=\"https://phoenix.craigslist.org/evl/cto/d/gilbert-prius-2009/7329971726.html\">\n  </a>\n  <div class=\"result-info\">\n   <span class=\"icon icon-star\" role=\"button\">\n    <span class=\"screen-reader-text\">\n     favorite this post\n    </span>\n   </span>\n   <time class=\"result-date\" datetime=\"2021-05-31 21:11\" title=\"Mon 31 May 09:11:25 PM\">\n    May 31\n   </time>\n   <h3 class=\"result-heading\">\n    <a class=\"result-title hdrlnk\" data-id=\"7329971726\" href=\"https://phoenix.craigslist.org/evl/cto/d/gilbert-prius-2009/7329971726.html\" id=\"postid_7329971726\">\n     Prius 2009\n    </a>\n   </h3>\n   <span class=\"result-meta\">\n    <span class=\"result-price\">\n     $7,900\n    </span>\n    <span class=\"result-hood\">\n     (Gilbert)\n    </span>\n    <span class=\"result-tags\">\n     <span class=\"maptag\">\n      4.3mi\n     </span>\n    </span>\n    <span class=\"banish icon icon-trash\" role=\"button\">\n     <span class=\"screen-reader-text\">\n      hide this posting\n     </span>\n    </span>\n    <span aria-hidden=\"true\" class=\"unbanish icon icon-trash red\" role=\"button\">\n    </span>\n    <a class=\"restore-link\" href=\"#\">\n     <span class=\"restore-narrow-text\">\n      restore\n     </span>\n     <span class=\"restore-wide-text\">\n      restore this posting\n     </span>\n    </a>\n   </span>\n  </div>\n </li>\n <li class=\"result-row\" data-pid=\"7330950803\" data-repost-of=\"7328993250\">\n  <a class=\"result-image gallery\" data-ids=\"3:00g0g_jqIHsptiq34z_0CI0t2,3:00202_a2QN03CAz9iz_0CI0t2,3:01414_1Qng5x5J5w8z_0CI0t2,3:00c0c_1R5pq2S3gZwz_0CI0t2,3:00f0f_iur5u5oCLEEz_0CI0t2,3:01010_eCeHkvWmc4pz_0CI0t2,3:00t0t_iFFbNBzlqRfz_0CI0t2,3:00G0G_lFtHcsmW3Pqz_0CI0t2,3:00505_4NCr0IzgBMsz_0CI0t2,3:01717_8Jws42FgokEz_0CI0t2,3:01515_6s1Ab7k8mfez_0CI0t2,3:00D0D_eBY152EMdkrz_0CI0t2,3:00707_j6VvG4Gvbd8z_0CI0t2,3:00H0H_c34x3iPtJ3Bz_0CI0t2,3:00g0g_fIrOZNF8qy1z_0CI0t2,3:00F0F_jd9YZR0gMtEz_0CI0t2,3:00z0z_2IpzY8VnFKrz_0CI0t2,3:00X0X_jVqf83xqv7mz_0CI0t2,3:00L0L_gIcQhDHxbhjz_0CI0t2,3:00H0H_3ruOlqiA08sz_0CI0t2,3:00z0z_lU0Q5fpEGIpz_0CI0t2,3:00F0F_3wHSPjkJAwVz_0t20CI,3:00606_fdgw1EwxaSfz_0CI0t2,3:00l0l_miJ0acKhHYz_0t20CI\" href=\"https://phoenix.craigslist.org/evl/cto/d/gilbert-2016-ford-150-lariat/7330950803.html\">\n   <span class=\"result-price\">\n    $45,000\n   </span>\n  </a>\n  <div class=\"result-info\">\n   <span class=\"icon icon-star\" role=\"button\">\n    <span class=\"screen-reader-text\">\n     favorite this post\n    </span>\n   </span>\n   <time class=\"result-date\" datetime=\"2021-06-02 18:00\" title=\"Wed 02 Jun 06:00:27 PM\">\n    Jun  2\n   </time>\n   <h3 class=\"result-heading\">\n    <a class=\"result-title hdrlnk\" data-id=\"7330950803\" href=\"https://phoenix.craigslist.org/evl/cto/d/gilbert-2016-ford-150-lariat/7330950803.html\" id=\"postid_7330950803\">\n     2016 Ford F-150 Lariat\n    </a>\n   </h3>\n   <span class=\"result-meta\">\n    <span class=\"result-price\">\n     $45,000\n    </span>\n    <span class=\"result-tags\">\n     <span class=\"pictag\">\n      pic\n     </span>\n     <span class=\"maptag\">\n      4.3mi\n     </span>\n    </span>\n    <span class=\"banish icon icon-trash\" role=\"button\">\n     <span class=\"screen-reader-text\">\n      hide this posting\n     </span>\n    </span>\n    <span aria-hidden=\"true\" class=\"unbanish icon icon-trash red\" role=\"button\">\n    </span>\n    <a class=\"restore-link\" href=\"#\">\n     <span class=\"restore-narrow-text\">\n      restore\n     </span>\n     <span class=\"restore-wide-text\">\n      restore this posting\n     </span>\n    </a>\n   </span>\n  </div>\n </li>\n <li class=\"result-row\" data-pid=\"7331864325\" data-repost-of=\"7328467487\">\n  <a class=\"result-image gallery\" data-ids=\"3:00g0g_2YHaBHvQglPz_0ww0oo,3:00606_kZfi4xartDdz_0ww0oo,3:00707_1FtIPkJamlBz_0ww0oo,3:00n0n_1L9GbRVqglDz_0ww0oo\" href=\"https://phoenix.craigslist.org/evl/cto/d/gilbert-chevrolet-corvette-grand-sport/7331864325.html\">\n   <span class=\"result-price\">\n    $45,000\n   </span>\n  </a>\n  <div class=\"result-info\">\n   <span class=\"icon icon-star\" role=\"button\">\n    <span class=\"screen-reader-text\">\n     favorite this post\n    </span>\n   </span>\n   <time class=\"result-date\" datetime=\"2021-06-04 14:11\" title=\"Fri 04 Jun 02:11:40 PM\">\n    Jun  4\n   </time>\n   <h3 class=\"result-heading\">\n    <a class=\"result-title hdrlnk\" data-id=\"7331864325\" href=\"https://phoenix.craigslist.org/evl/cto/d/gilbert-chevrolet-corvette-grand-sport/7331864325.html\" id=\"postid_7331864325\">\n     Chevrolet Corvette Grand Sport LIKE NEW!\n    </a>\n   </h3>\n   <span class=\"result-meta\">\n    <span class=\"result-price\">\n     $45,000\n    </span>\n    <span class=\"result-hood\">\n     (Gilbert)\n    </span>\n    <span class=\"result-tags\">\n     <span class=\"pictag\">\n      pic\n     </span>\n     <span class=\"maptag\">\n      4.3mi\n     </span>\n    </span>\n    <span class=\"banish icon icon-trash\" role=\"button\">\n     <span class=\"screen-reader-text\">\n      hide this posting\n     </span>\n    </span>\n    <span aria-hidden=\"true\" class=\"unbanish icon icon-trash red\" role=\"button\">\n    </span>\n    <a class=\"restore-link\" href=\"#\">\n     <span class=\"restore-narrow-text\">\n      restore\n     </span>\n     <span class=\"restore-wide-text\">\n      restore this posting\n     </span>\n    </a>\n   </span>\n  </div>\n </li>\n <li class=\"result-row\" data-pid=\"7331922664\">\n  <a class=\"result-image gallery\" data-ids=\"3:01212_er24RISfWnFz_0CI0t2,3:00x0x_bhQvw4RxLRaz_0CI0t2,3:00B0B_44dwSWAiAqFz_0CI0t2,3:00404_a3UVmyQjkAXz_0CI0t2,3:00E0E_1EpjaIoA6llz_0CI0t2,3:01616_94UKgBGojQQz_0CI0t2,3:00s0s_acqPoJanYbz_0CI0t2,3:00000_diGXlQ59Owbz_0CI0t2,3:00Y0Y_7m9PsWHpaWmz_0CI0t2,3:00Z0Z_kxOdufHmXoXz_0CI0t2,3:00101_gGkzvxOaaPCz_0CI0t2,3:00z0z_4I6z8DpnSIqz_0CI0t2,3:00g0g_96obDQnEANsz_0CI0t2,3:00a0a_7oIWvQ8Gwyz_0CI0t2,3:00Q0Q_16rMfKqAAuVz_0CI0t2,3:00w0w_aAKQzBBp0G4z_0CI0t2\" href=\"https://phoenix.craigslist.org/evl/cto/d/gilbert-2018-ford-f250-crew-cab-4wd/7331922664.html\">\n   <span class=\"result-price\">\n    $64,500\n   </span>\n  </a>\n  <div class=\"result-info\">\n   <span class=\"icon icon-star\" role=\"button\">\n    <span class=\"screen-reader-text\">\n     favorite this post\n    </span>\n   </span>\n   <time class=\"result-date\" datetime=\"2021-06-04 16:10\" title=\"Fri 04 Jun 04:10:07 PM\">\n    Jun  4\n   </time>\n   <h3 class=\"result-heading\">\n    <a class=\"result-title hdrlnk\" data-id=\"7331922664\" href=\"https://phoenix.craigslist.org/evl/cto/d/gilbert-2018-ford-f250-crew-cab-4wd/7331922664.html\" id=\"postid_7331922664\">\n     2018 Ford F250 Crew Cab 4wd Lariat 6.7 Powerstroke\n    </a>\n   </h3>\n   <span class=\"result-meta\">\n    <span class=\"result-price\">\n     $64,500\n    </span>\n    <span class=\"result-hood\">\n     (Gilbert)\n    </span>\n    <span class=\"result-tags\">\n     <span class=\"pictag\">\n      pic\n     </span>\n     <span class=\"maptag\">\n      4.3mi\n     </span>\n    </span>\n    <span class=\"banish icon icon-trash\" role=\"button\">\n     <span class=\"screen-reader-text\">\n      hide this posting\n     </span>\n    </span>\n    <span aria-hidden=\"true\" class=\"unbanish icon icon-trash red\" role=\"button\">\n    </span>\n    <a class=\"restore-link\" href=\"#\">\n     <span class=\"restore-narrow-text\">\n      restore\n     </span>\n     <span class=\"restore-wide-text\">\n      restore this posting\n     </span>\n    </a>\n   </span>\n  </div>\n </li>\n <li class=\"result-row\" data-pid=\"7333677605\">\n  <a class=\"result-image gallery\" data-ids=\"3:00T0T_cbpVbmSmzp4z_0zP0t2,3:00O0O_7hh5Ri7kCzzz_0Ci0t2,3:00L0L_9LqRy7ReUWkz_0sZ0t2,3:00404_eVG3TO93zQpz_0jm0t2,3:00W0W_gK8sG4tZmKnz_0jm0t2,3:00E0E_bEv8wuGXCL5z_0jm0t2\" href=\"https://phoenix.craigslist.org/evl/cto/d/gilbert-2004-bmw-330ci-convertible/7333677605.html\">\n   <span class=\"result-price\">\n    $5,500\n   </span>\n  </a>\n  <div class=\"result-info\">\n   <span class=\"icon icon-star\" role=\"button\">\n    <span class=\"screen-reader-text\">\n     favorite this post\n    </span>\n   </span>\n   <time class=\"result-date\" datetime=\"2021-06-08 10:46\" title=\"Tue 08 Jun 10:46:25 AM\">\n    Jun  8\n   </time>\n   <h3 class=\"result-heading\">\n    <a class=\"result-title hdrlnk\" data-id=\"7333677605\" href=\"https://phoenix.craigslist.org/evl/cto/d/gilbert-2004-bmw-330ci-convertible/7333677605.html\" id=\"postid_7333677605\">\n     2004 BMW 330CI Convertible\n    </a>\n   </h3>\n   <span class=\"result-meta\">\n    <span class=\"result-price\">\n     $5,500\n    </span>\n    <span class=\"result-hood\">\n     (Gilbert)\n    </span>\n    <span class=\"result-tags\">\n     <span class=\"pictag\">\n      pic\n     </span>\n     <span class=\"maptag\">\n      4.3mi\n     </span>\n    </span>\n    <span class=\"banish icon icon-trash\" role=\"button\">\n     <span class=\"screen-reader-text\">\n      hide this posting\n     </span>\n    </span>\n    <span aria-hidden=\"true\" class=\"unbanish icon icon-trash red\" role=\"button\">\n    </span>\n    <a class=\"restore-link\" href=\"#\">\n     <span class=\"restore-narrow-text\">\n      restore\n     </span>\n     <span class=\"restore-wide-text\">\n      restore this posting\n     </span>\n    </a>\n   </span>\n  </div>\n </li>\n</ul>\n\n"
     ]
    }
   ],
   "source": [
    "results = soup.find(class_=\"rows\")\n",
    "print(results.prettify())"
   ]
  },
  {
   "cell_type": "code",
   "execution_count": 89,
   "metadata": {
    "tags": []
   },
   "outputs": [
    {
     "output_type": "stream",
     "name": "stdout",
     "text": [
      "120\n"
     ]
    }
   ],
   "source": [
    "car_elements = results.find_all('li', class_=\"result-row\")\n",
    "print(len(car_elements))"
   ]
  },
  {
   "cell_type": "code",
   "execution_count": 90,
   "metadata": {
    "tags": [
     "outputPrepend"
    ]
   },
   "outputs": [
    {
     "output_type": "stream",
     "name": "stdout",
     "text": [
      "50\n\n\n$75,000\n\n0mi\n\n\nhide this posting\n\n\n\nrestore\nrestore this posting\n\n\n\n\n_____________________________\n\n\n$3,750\n\n\n\nfavorite this post\n\nMay 24\n\nSuperb 2004 BMW X5 4.4i for Sale!\n\n\n$3,750\n (Chandler)\n\npic\n0mi\n\n\nhide this posting\n\n\n\nrestore\nrestore this posting\n\n\n\n\n_____________________________\n\n\n$12,700\n\n\n\nfavorite this post\n\nMay 25\n\n2015 370z\n\n\n$12,700\n (Chandler)\n\npic\n0mi\n\n\nhide this posting\n\n\n\nrestore\nrestore this posting\n\n\n\n\n_____________________________\n\n\n$7,500\n\n\n\nfavorite this post\n\nMay 26\n\nAwesome 2008 Mazda CX-7 with JDM Engine for Sale\n\n\n$7,500\n (Chandler)\n\npic\n0mi\n\n\nhide this posting\n\n\n\nrestore\nrestore this posting\n\n\n\n\n_____________________________\n\n\n$80,000\n\n\n\nfavorite this post\n\nJun  1\n\n2021 Dodge Ram 2500 Laramie Crew Cab 4x4\n\n\n$80,000\n (Chandler)\n\npic\n0mi\n\n\nhide this posting\n\n\n\nrestore\nrestore this posting\n\n\n\n\n_____________________________\n\n\n$15,000\n\n\n\nfavorite this post\n\nJun  3\n\nJeep Wrangler\n\n\n$15,000\n (CHANDLER)\n\npic\n0mi\n\n\nhide this posting\n\n\n\nrestore\nrestore this posting\n\n\n\n\n_____________________________\n\n\n$11,500\n\n\n\nfavorite this post\n\nJun  3\n\nLower Mileage 2nd Gen Dodge Cummins 6spd 4wd 4 Door\n\n\n$11,500\n (Chandler)\n\npic\n0mi\n\n\nhide this posting\n\n\n\nrestore\nrestore this posting\n\n\n\n\n_____________________________\n\n\n$16,500\n\n\n\nfavorite this post\n\nJun  4\n\n2006 Jeep Wrangler TJ\n\n\n$16,500\n\npic\n0mi\n\n\nhide this posting\n\n\n\nrestore\nrestore this posting\n\n\n\n\n_____________________________\n\n\n$6,800\n\n\n\nfavorite this post\n\nJun  6\n\n2009 Scion tC\n\n\n$6,800\n (Chandler)\n\npic\n0mi\n\n\nhide this posting\n\n\n\nrestore\nrestore this posting\n\n\n\n\n_____________________________\n\n\n$6,995\n\n\n\nfavorite this post\n\nJun  6\n\n2006 Mini Cooper Convertible S\n\n\n$6,995\n (chandler)\n\npic\n0mi\n\n\nhide this posting\n\n\n\nrestore\nrestore this posting\n\n\n\n\n_____________________________\n\n\n$15,600\n\n\n\nfavorite this post\n\nJun  7\n\n2010 Range Rover Sport!!!\n\n\n$15,600\n (Chandler)\n\npic\n0mi\n\n\nhide this posting\n\n\n\nrestore\nrestore this posting\n\n\n\n\n_____________________________\n\n\n$7,700\n\n\n\nfavorite this post\n\nMay 21\n\n2011 Toyota proud clean title condition Excellent\n\n\n$7,700\n (Chandler)\n\npic\n0mi\n\n\nhide this posting\n\n\n\nrestore\nrestore this posting\n\n\n\n\n_____________________________\n\n\n$4,000\n\n\n\nfavorite this post\n\nMay 29\n\n2010 Chevy Impala (silver police )\n\n\n$4,000\n (Chandler)\n\npic\n0mi\n\n\nhide this posting\n\n\n\nrestore\nrestore this posting\n\n\n\n\n_____________________________\n\n\n$10,000\n\n\n\nfavorite this post\n\nMay 19\n\n2003 Ford F-150\n\n\n$10,000\n (Chandler)\n\npic\n0.5mi\n\n\nhide this posting\n\n\n\nrestore\nrestore this posting\n\n\n\n\n_____________________________\n\n\n$19,500\n\n\n\nfavorite this post\n\nMay 10\n\n1975 K10\n\n\n$19,500\n\npic\n0.8mi\n\n\nhide this posting\n\n\n\nrestore\nrestore this posting\n\n\n\n\n_____________________________\n\n\n$18,400\n\n\n\nfavorite this post\n\nMay 23\n\n2016 Toyota Camry SE For Sale - Single Owner - Low Mileage\n\n\n$18,400\n (Chandler)\n\npic\n1mi\n\n\nhide this posting\n\n\n\nrestore\nrestore this posting\n\n\n\n\n_____________________________\n\n\n$24,000\n\n\n\nfavorite this post\n\nJun  6\n\n2013 Lexus GS350, 44k miles\n\n\n$24,000\n (Chandler)\n\npic\n1mi\n\n\nhide this posting\n\n\n\nrestore\nrestore this posting\n\n\n\n\n_____________________________\n\n\n$19,995\n\n\n\nfavorite this post\n\nMay 27\n\n2011 Chevy Silverado 1500 LT\n\n\n$19,995\n (Chandler)\n\npic\n1.1mi\n\n\nhide this posting\n\n\n\nrestore\nrestore this posting\n\n\n\n\n_____________________________\n\n\n$65,000\n\n\n\nfavorite this post\n\nJun  6\n\n2021 Silverado LTZ 6.2L Max Trailer\n\n\n$65,000\n\npic\n1.1mi\n\n\nhide this posting\n\n\n\nrestore\nrestore this posting\n\n\n\n\n_____________________________\n\n\n$44,500\n\n\n\nfavorite this post\n\nMay 10\n\n2015 Dodge Ram Sport 4x4\n\n\n$44,500\n (Gilbert)\n\npic\n1.2mi\n\n\nhide this posting\n\n\n\nrestore\nrestore this posting\n\n\n\n\n_____________________________\n\n\n$44,000\n\n\n\nfavorite this post\n\nMay 17\n\n2015 Dodge Ram Sport 4x4\n\n\n$44,000\n\npic\n1.2mi\n\n\nhide this posting\n\n\n\nrestore\nrestore this posting\n\n\n\n\n_____________________________\n\n\n$6,800\n\n\n\nfavorite this post\n\nJun  7\n\n2004 Toyota Tundra\n\n\n$6,800\n (Chandler)\n\npic\n1.4mi\n\n\nhide this posting\n\n\n\nrestore\nrestore this posting\n\n\n\n\n_____________________________\n\n\n$34,000\n\n\n\nfavorite this post\n\nJun  3\n\n2013 Ford F150 Fx4\n\n\n$34,000\n (Gilbert)\n\npic\n1.5mi\n\n\nhide this posting\n\n\n\nrestore\nrestore this posting\n\n\n\n\n_____________________________\n\n\n$14,399\n\n\n\nfavorite this post\n\nMay 13\n\n2012 Ford Mustang\n\n\n$14,399\n (Chandler)\n\npic\n1.5mi\n\n\nhide this posting\n\n\n\nrestore\nrestore this posting\n\n\n\n\n_____________________________\n\n\n\n\nfavorite this post\n\nJun  5\n\n2015 Ford F-150 XLT 4x4 twin turbo\n\n\n$24,900\n\n1.6mi\n\n\nhide this posting\n\n\n\nrestore\nrestore this posting\n\n\n\n\n_____________________________\n\n\n$6,000\n\n\n\nfavorite this post\n\nMay 30\n\n2010 Ford Taurus SEL\n\n\n$6,000\n (Chandler)\n\npic\n1.7mi\n\n\nhide this posting\n\n\n\nrestore\nrestore this posting\n\n\n\n\n_____________________________\n\n\n$12,900\n\n\n\nfavorite this post\n\nMay 15\n\n2017 Nissan Quest SV\n\n\n$12,900\n (Chandler)\n\npic\n1.8mi\n\n\nhide this posting\n\n\n\nrestore\nrestore this posting\n\n\n\n\n_____________________________\n\n\n$11,900\n\n\n\nfavorite this post\n\nMay 29\n\n2017 Nissan Quest SV\n\n\n$11,900\n (Chandler)\n\npic\n1.8mi\n\n\nhide this posting\n\n\n\nrestore\nrestore this posting\n\n\n\n\n_____________________________\n\n\n$11,900\n\n\n\nfavorite this post\n\nJun  5\n\n2017 Nissan Quest SV\n\n\n$11,900\n (Chandler)\n\npic\n1.8mi\n\n\nhide this posting\n\n\n\nrestore\nrestore this posting\n\n\n\n\n_____________________________\n\n\n$15,500\n\n\n\nfavorite this post\n\nMay 23\n\n2013 Police Tahoe PPV 85K miles\n\n\n$15,500\n (Chandler 85249)\n\npic\n1.8mi\n\n\nhide this posting\n\n\n\nrestore\nrestore this posting\n\n\n\n\n_____________________________\n\n\n$18,000\n\n\n\nfavorite this post\n\nMay 19\n\n1991 BMW 850i sale or trade\n\n\n$18,000\n (Gilbert)\n\npic\n1.8mi\n\n\nhide this posting\n\n\n\nrestore\nrestore this posting\n\n\n\n\n_____________________________\n\n\n$18,500\n\n\n\nfavorite this post\n\nJun  7\n\n2007 f-150 Lariat (97850mi)\n\n\n$18,500\n\npic\n1.9mi\n\n\nhide this posting\n\n\n\nrestore\nrestore this posting\n\n\n\n\n_____________________________\n\n\n$14,500\n\n\n\nfavorite this post\n\nMay 27\n\n2017 Ford Explorer\n\n\n$14,500\n (Chandler)\n\npic\n1.9mi\n\n\nhide this posting\n\n\n\nrestore\nrestore this posting\n\n\n\n\n_____________________________\n\n\n$10,500\n\n\n\nfavorite this post\n\nMay 30\n\n1986 CHEVROLET CORVETTE - LOW MILES - 68K Miles\n\n\n$10,500\n (Chandler)\n\npic\n1.9mi\n\n\nhide this posting\n\n\n\nrestore\nrestore this posting\n\n\n\n\n_____________________________\n\n\n$5,000\n\n\n\nfavorite this post\n\nJun  2\n\n2012 Jeep Liberty\n\n\n$5,000\n (Chandler)\n\npic\n2mi\n\n\nhide this posting\n\n\n\nrestore\nrestore this posting\n\n\n\n\n_____________________________\n\n\n$9,500\n\n\n\nfavorite this post\n\nJun  1\n\n2005 Dodge Ram 3500 Dually Cummins diesel automatic\n\n\n$9,500\n\npic\n2mi\n\n\nhide this posting\n\n\n\nrestore\nrestore this posting\n\n\n\n\n_____________________________\n\n\n$15,000\n\n\n\nfavorite this post\n\nMay 28\n\n2001 Land Rover SE Discovery 2\n\n\n$15,000\n (Chandler)\n\npic\n2.3mi\n\n\nhide this posting\n\n\n\nrestore\nrestore this posting\n\n\n\n\n_____________________________\n\n\n$15,000\n\n\n\nfavorite this post\n\nJun  5\n\n2001 Land Rover SE Discovery 2\n\n\n$15,000\n (Chandler)\n\npic\n2.3mi\n\n\nhide this posting\n\n\n\nrestore\nrestore this posting\n\n\n\n\n_____________________________\n\n\n$13,950\n\n\n\nfavorite this post\n\nJun  7\n\n2013 Ford Explorer Police Interceptor\n\n\n$13,950\n (Chandler)\n\npic\n2.3mi\n\n\nhide this posting\n\n\n\nrestore\nrestore this posting\n\n\n\n\n_____________________________\n\n\n$15,000\n\n\n\nfavorite this post\n\nMay 28\n\n2011 Lexus GS350\n\n\n$15,000\n\npic\n2.5mi\n\n\nhide this posting\n\n\n\nrestore\nrestore this posting\n\n\n\n\n_____________________________\n\n\n$4,400\n\n\n\nfavorite this post\n\nJun  7\n\n2008 Chevy Impala LT\n\n\n$4,400\n (Mesa)\n\npic\n2.8mi\n\n\nhide this posting\n\n\n\nrestore\nrestore this posting\n\n\n\n\n_____________________________\n\n\n$9,800\n\n\n\nfavorite this post\n\nMay 25\n\n2006 Honda Accord EX-L V6\n\n\n$9,800\n (Gilbert)\n\npic\n2.8mi\n\n\nhide this posting\n\n\n\nrestore\nrestore this posting\n\n\n\n\n_____________________________\n\n\n$23,800\n\n\n\nfavorite this post\n\nMay 11\n\nFORD MUSTANG COBRA SVT\n\n\n$23,800\n (CHANDLER)\n\npic\n2.8mi\n\n\nhide this posting\n\n\n\nrestore\nrestore this posting\n\n\n\n\n_____________________________\n\n\n$8,800\n\n\n\nfavorite this post\n\nMay 21\n\n2008 MINI Cooper S\n\n\n$8,800\n (Chandler)\n\npic\n2.9mi\n\n\nhide this posting\n\n\n\nrestore\nrestore this posting\n\n\n\n\n_____________________________\n\n\n$41,000\n\n\n\nfavorite this post\n\nJun  3\n\n2018 Jeep Wrangler *pending sale*\n\n\n$41,000\n (Chandler)\n\npic\n3mi\n\n\nhide this posting\n\n\n\nrestore\nrestore this posting\n\n\n\n\n_____________________________\n\n\n$38,500\n\n\n\nfavorite this post\n\nMay 29\n\nES 350 PANORAMIC SUNROOF\n\n\n$38,500\n (Chandler)\n\npic\n3.1mi\n\n\nhide this posting\n\n\n\nrestore\nrestore this posting\n\n\n\n\n_____________________________\n\n\n$27,500\n\n\n\nfavorite this post\n\nJun  7\n\n2021 Chevy Silverado 2500 4x4 LOW MILES\n\n\n$27,500\n (Chandler)\n\npic\n3.2mi\n\n\nhide this posting\n\n\n\nrestore\nrestore this posting\n\n\n\n\n_____________________________\n\n\n$6,300\n\n\n\nfavorite this post\n\nMay 26\n\n2014 Nissan Versa\n\n\n$6,300\n (Chandler)\n\npic\n3.2mi\n\n\nhide this posting\n\n\n\nrestore\nrestore this posting\n\n\n\n\n_____________________________\n\n\n$21,900\n\n\n\nfavorite this post\n\nMay 30\n\n2013 Porsche Cayenne Turbo\n\n\n$21,900\n (Gilbert)\n\npic\n3.3mi\n\n\nhide this posting\n\n\n\nrestore\nrestore this posting\n\n\n\n\n_____________________________\n\n\n$19,500\n\n\n\nfavorite this post\n\nJun  2\n\n04 Ram 2500 Cummins Shortbed 4x4\n\n\n$19,500\n (Gilbert/Chandler Heights)\n\npic\n3.5mi\n\n\nhide this posting\n\n\n\nrestore\nrestore this posting\n\n\n\n\n_____________________________\n\n\n$3,200\n\n\n\nfavorite this post\n\nMay 14\n\n2005 Buick LaCrosse\n\n\n$3,200\n (Gilbert)\n\npic\n3.5mi\n\n\nhide this posting\n\n\n\nrestore\nrestore this posting\n\n\n\n\n_____________________________\n\n\n$12,500\n\n\n\nfavorite this post\n\nJun  3\n\n2013 Ford Expedition XL EL 4WD 133k Miles (New Engine)\n\n\n$12,500\n (Gilbert)\n\npic\n3.6mi\n\n\nhide this posting\n\n\n\nrestore\nrestore this posting\n\n\n\n\n_____________________________\n\n\n$7,200\n\n\n\nfavorite this post\n\nJun  5\n\nNISSAN SENTRA FE-SV CLEAN CARFAX ! BELOW KBB!\n\n\n$7,200\n (Gilbert)\n\npic\n3.6mi\n\n\nhide this posting\n\n\n\nrestore\nrestore this posting\n\n\n\n\n_____________________________\n\n\n\n\nfavorite this post\n\nMay 29\n\n2003 Pontiac Montana 62k miles excellent condition\n\n\n$2,200\n (Chandler)\n\n3.6mi\n\n\nhide this posting\n\n\n\nrestore\nrestore this posting\n\n\n\n\n_____________________________\n\n\n$4,800\n\n\n\nfavorite this post\n\nJun  7\n\n2012 Chrysler 200 LX for sale\n\n\n$4,800\n (Chandler)\n\npic\n3.6mi\n\n\nhide this posting\n\n\n\nrestore\nrestore this posting\n\n\n\n\n_____________________________\n\n\n$26,500\n\n\n\nfavorite this post\n\nMay 19\n\n2012 Porsche Cayenne S hybrid 428ftlbs\n\n\n$26,500\n (Chandler)\n\npic\n3.7mi\n\n\nhide this posting\n\n\n\nrestore\nrestore this posting\n\n\n\n\n_____________________________\n\n\n$22,500\n\n\n\nfavorite this post\n\nJun  1\n\n2012 Porsche Cayenne s hybrid 428-ft pounds\n\n\n$22,500\n (Chandler)\n\npic\n3.7mi\n\n\nhide this posting\n\n\n\nrestore\nrestore this posting\n\n\n\n\n_____________________________\n\n\n$2,500\n\n\n\nfavorite this post\n\nMay 12\n\n1971 toyota corona mark 11 project car\n\n\n$2,500\n (Chandler)\n\npic\n3.8mi\n\n\nhide this posting\n\n\n\nrestore\nrestore this posting\n\n\n\n\n_____________________________\n\n\n$2,500\n\n\n\nfavorite this post\n\nMay 21\n\n1971 toyota corona mark 11 project car\n\n\n$2,500\n (Chandler)\n\npic\n3.8mi\n\n\nhide this posting\n\n\n\nrestore\nrestore this posting\n\n\n\n\n_____________________________\n\n\n$2,500\n\n\n\nfavorite this post\n\nMay 27\n\n1971 toyota corona mark 11 project car\n\n\n$2,500\n (Chandler)\n\npic\n3.8mi\n\n\nhide this posting\n\n\n\nrestore\nrestore this posting\n\n\n\n\n_____________________________\n\n\n$2,500\n\n\n\nfavorite this post\n\nJun  2\n\n1971 toyota corona mark 11 project car\n\n\n$2,500\n (Chandler)\n\npic\n3.8mi\n\n\nhide this posting\n\n\n\nrestore\nrestore this posting\n\n\n\n\n_____________________________\n\n\n$6,000\n\n\n\nfavorite this post\n\nMay  9\n\n2010 Mini Cooper \"Rally Edition\" Clubman S\n\n\n$6,000\n (Chandler)\n\npic\n3.9mi\n\n\nhide this posting\n\n\n\nrestore\nrestore this posting\n\n\n\n\n_____________________________\n\n\n$20,000\n\n\n\nfavorite this post\n\nMay 10\n\n06 F250 lifted\n\n\n$20,000\n (Chandler)\n\npic\n3.9mi\n\n\nhide this posting\n\n\n\nrestore\nrestore this posting\n\n\n\n\n_____________________________\n\n\n$32,000\n\n\n\nfavorite this post\n\nMay 13\n\n2018 Audi Q5 clean!!! $32,000 OBO\n\n\n$32,000\n (Chandler, AZ)\n\npic\n3.9mi\n\n\nhide this posting\n\n\n\nrestore\nrestore this posting\n\n\n\n\n_____________________________\n\n\n$30,000\n\n\n\nfavorite this post\n\nMay 16\n\n2018 Audi Q5 clean!!! $30,000 Firm\n\n\n$30,000\n (Chandler, AZ)\n\npic\n3.9mi\n\n\nhide this posting\n\n\n\nrestore\nrestore this posting\n\n\n\n\n_____________________________\n\n\n$14,988\n\n\n\nfavorite this post\n\nMay 18\n\n2015 Nissan Pathfinder\n\n\n$14,988\n\npic\n3.9mi\n\n\nhide this posting\n\n\n\nrestore\nrestore this posting\n\n\n\n\n_____________________________\n\n\n$4,900\n\n\n\nfavorite this post\n\nMay 18\n\n2003 Acural TL\n\n\n$4,900\n (chandler)\n\npic\n3.9mi\n\n\nhide this posting\n\n\n\nrestore\nrestore this posting\n\n\n\n\n_____________________________\n\n\n$17,500\n\n\n\nfavorite this post\n\nMay 19\n\n2004 GMC Sierra\n\n\n$17,500\n\npic\n3.9mi\n\n\nhide this posting\n\n\n\nrestore\nrestore this posting\n\n\n\n\n_____________________________\n\n\n$7,000\n\n\n\nfavorite this post\n\nMay 19\n\nJeep Grand Cherokee 2007\n\n\n$7,000\n\npic\n3.9mi\n\n\nhide this posting\n\n\n\nrestore\nrestore this posting\n\n\n\n\n_____________________________\n\n\n$8,500\n\n\n\nfavorite this post\n\nMay 21\n\n1988 Crew Cab F350 Diesel\n\n\n$8,500\n\npic\n3.9mi\n\n\nhide this posting\n\n\n\nrestore\nrestore this posting\n\n\n\n\n_____________________________\n\n\n$4,599\n\n\n\nfavorite this post\n\nMay 21\n\n2006 Acura MDX\n\n\n$4,599\n (Chandler)\n\npic\n3.9mi\n\n\nhide this posting\n\n\n\nrestore\nrestore this posting\n\n\n\n\n_____________________________\n\n\n$4,000\n\n\n\nfavorite this post\n\nMay 26\n\n2006 NISSAN MAXIMA for Sale\n\n\n$4,000\n (Chandler)\n\npic\n3.9mi\n\n\nhide this posting\n\n\n\nrestore\nrestore this posting\n\n\n\n\n_____________________________\n\n\n$6,599\n\n\n\nfavorite this post\n\nMay 27\n\n2008 Toyota Corolla\n\n\n$6,599\n (Germann rd and Alma school)\n\npic\n3.9mi\n\n\nhide this posting\n\n\n\nrestore\nrestore this posting\n\n\n\n\n_____________________________\n\n\n$2,900\n\n\n\nfavorite this post\n\nMay 28\n\n1999 Toyota Camry LE, Original Owner, Good Condition\n\n\n$2,900\n (Chandler)\n\npic\n3.9mi\n\n\nhide this posting\n\n\n\nrestore\nrestore this posting\n\n\n\n\n_____________________________\n\n\n$20,950\n\n\n\nfavorite this post\n\nMay 30\n\n2018 Acura RDX Awd\n\n\n$20,950\n\npic\n3.9mi\n\n\nhide this posting\n\n\n\nrestore\nrestore this posting\n\n\n\n\n_____________________________\n\n\n$7,450\n\n\n\nfavorite this post\n\nMay 31\n\n1999 BMW M3 Convertible\n\n\n$7,450\n (Chandler)\n\npic\n3.9mi\n\n\nhide this posting\n\n\n\nrestore\nrestore this posting\n\n\n\n\n_____________________________\n\n\n$30,500\n\n\n\nfavorite this post\n\nJun  1\n\n2015 F-150 XLT, 4x4, 4 door\n\n\n$30,500\n (Chandler)\n\npic\n3.9mi\n\n\nhide this posting\n\n\n\nrestore\nrestore this posting\n\n\n\n\n_____________________________\n\n\n$25,000\n\n\n\nfavorite this post\n\nJun  1\n\n1968 Ford Ranchero GT\n\n\n$25,000\n (Chandler)\n\npic\n3.9mi\n\n\nhide this posting\n\n\n\nrestore\nrestore this posting\n\n\n\n\n_____________________________\n\n\n$13,750\n\n\n\nfavorite this post\n\nJun  3\n\n2007 TOYOTA TACOMA\n\n\n$13,750\n (Chandler)\n\npic\n3.9mi\n\n\nhide this posting\n\n\n\nrestore\nrestore this posting\n\n\n\n\n_____________________________\n\n\n$10,000\n\n\n\nfavorite this post\n\nJun  3\n\n2005 Toyota Tacoma TRD Off Road\n\n\n$10,000\n (Chandler)\n\npic\n3.9mi\n\n\nhide this posting\n\n\n\nrestore\nrestore this posting\n\n\n\n\n_____________________________\n\n\n$6,000\n\n\n\nfavorite this post\n\nJun  4\n\n2008 Volkswagen Jetta GLI\n\n\n$6,000\n (Chandler)\n\npic\n3.9mi\n\n\nhide this posting\n\n\n\nrestore\nrestore this posting\n\n\n\n\n_____________________________\n\n\n$22,500\n\n\n\nfavorite this post\n\nJun  5\n\n2017 BMW 320i low mileage with manufacturer warranty\n\n\n$22,500\n (chandler)\n\npic\n3.9mi\n\n\nhide this posting\n\n\n\nrestore\nrestore this posting\n\n\n\n\n_____________________________\n\n\n$25,300\n\n\n\nfavorite this post\n\nJun  7\n\n2016 Acura MDX Low Miles\n\n\n$25,300\n\npic\n3.9mi\n\n\nhide this posting\n\n\n\nrestore\nrestore this posting\n\n\n\n\n_____________________________\n\n\n$12,500\n\n\n\nfavorite this post\n\nJun  7\n\n2012 Ford Edge SEL All Available Options\n\n\n$12,500\n (Chandler)\n\npic\n3.9mi\n\n\nhide this posting\n\n\n\nrestore\nrestore this posting\n\n\n\n\n_____________________________\n\n\n$27,000\n\n\n\nfavorite this post\n\nJun  8\n\n2011 Lexus GX460 icon, black rhino, JW Offroad\n\n\n$27,000\n (S Chandler)\n\npic\n3.9mi\n\n\nhide this posting\n\n\n\nrestore\nrestore this posting\n\n\n\n\n_____________________________\n\n\n$36,500\n\n\n\nfavorite this post\n\nMay 31\n\n2015 Ram 1500 4wd\n\n\n$36,500\n (Chandler)\n\npic\n3.9mi\n\n\nhide this posting\n\n\n\nrestore\nrestore this posting\n\n\n\n\n_____________________________\n\n\n$67,000\n\n\n\nfavorite this post\n\nJun  1\n\n2017 Ford Raptor Super Cab\n\n\n$67,000\n (Offer)\n\npic\n3.9mi\n\n\nhide this posting\n\n\n\nrestore\nrestore this posting\n\n\n\n\n_____________________________\n\n\n$67,000\n\n\n\nfavorite this post\n\nJun  7\n\n2017 Ford Raptor Super Cab\n\n\n$67,000\n (Offer)\n\npic\n3.9mi\n\n\nhide this posting\n\n\n\nrestore\nrestore this posting\n\n\n\n\n_____________________________\n\n\n$6,000\n\n\n\nfavorite this post\n\nMay 19\n\n2009 GMC SIERRA\n\n\n$6,000\n (Chandler)\n\npic\n3.9mi\n\n\nhide this posting\n\n\n\nrestore\nrestore this posting\n\n\n\n\n_____________________________\n\n\n$15,500\n\n\n\nfavorite this post\n\nMay 27\n\nCar for Sale by Owner\n\n\n$15,500\n (Gilbert)\n\npic\n4mi\n\n\nhide this posting\n\n\n\nrestore\nrestore this posting\n\n\n\n\n_____________________________\n\n\n$20,500\n\n\n\nfavorite this post\n\nJun  8\n\nFord F-150 pickup\n\n\n$20,500\n (Gilbert)\n\npic\n4.1mi\n\n\nhide this posting\n\n\n\nrestore\nrestore this posting\n\n\n\n\n_____________________________\n\n\n$20,000\n\n\n\nfavorite this post\n\nMay 31\n\nMini Cooper Countryman S 2017\n\n\n$20,000\n\npic\n4.2mi\n\n\nhide this posting\n\n\n\nrestore\nrestore this posting\n\n\n\n\n_____________________________\n\n\n$4,950\n\n\n\nfavorite this post\n\nMay 21\n\nMercedes  C280 Luxury\n\n\n$4,950\n (Seville)\n\npic\n4.2mi\n\n\nhide this posting\n\n\n\nrestore\nrestore this posting\n\n\n\n\n_____________________________\n\n\n$17,900\n\n\n\nfavorite this post\n\nMay 12\n\n2004 Ram cummins 4WD\n\n\n$17,900\n\npic\n4.3mi\n\n\nhide this posting\n\n\n\nrestore\nrestore this posting\n\n\n\n\n_____________________________\n\n\n$4,490\n\n\n\nfavorite this post\n\nMay 16\n\n2007 Honda Odyssey EX-L for sale\n\n\n$4,490\n (Gilbert,AZ)\n\npic\n4.3mi\n\n\nhide this posting\n\n\n\nrestore\nrestore this posting\n\n\n\n\n_____________________________\n\n\n$4,800\n\n\n\nfavorite this post\n\nMay 17\n\n2000 ACURA TL\n\n\n$4,800\n (Gilbert)\n\npic\n4.3mi\n\n\nhide this posting\n\n\n\nrestore\nrestore this posting\n\n\n\n\n_____________________________\n\n\n$11,500\n\n\n\nfavorite this post\n\nMay 18\n\n2013 Hyundai Tucson GLS 4DR\n\n\n$11,500\n (Gilbert)\n\npic\n4.3mi\n\n\nhide this posting\n\n\n\nrestore\nrestore this posting\n\n\n\n\n_____________________________\n\n\n$23,900\n\n\n\nfavorite this post\n\nMay 23\n\n2017 Toyota Tacoma\n\n\n$23,900\n (Great Work Truck Very Clean)\n\npic\n4.3mi\n\n\nhide this posting\n\n\n\nrestore\nrestore this posting\n\n\n\n\n_____________________________\n\n\n$26,000\n\n\n\nfavorite this post\n\nMay 25\n\n2019 Ford Mustang Convertible\n\n\n$26,000\n (Gilbert, AZ)\n\npic\n4.3mi\n\n\nhide this posting\n\n\n\nrestore\nrestore this posting\n\n\n\n\n_____________________________\n\n\n$14,999\n\n\n\nfavorite this post\n\nMay 27\n\n2013 Ford F-150 XLT 4x4\n\n\n$14,999\n (Gilbert)\n\npic\n4.3mi\n\n\nhide this posting\n\n\n\nrestore\nrestore this posting\n\n\n\n\n_____________________________\n\n\n$6,950\n\n\n\nfavorite this post\n\nMay 27\n\n2015 city van mechanic special\n\n\n$6,950\n\npic\n4.3mi\n\n\nhide this posting\n\n\n\nrestore\nrestore this posting\n\n\n\n\n_____________________________\n\n\n$48,000\n\n\n\nfavorite this post\n\nMay 28\n\nChevrolet Corvette Grand Sport LIKE NEW!\n\n\n$48,000\n (Gilbert)\n\npic\n4.3mi\n\n\nhide this posting\n\n\n\nrestore\nrestore this posting\n\n\n\n\n_____________________________\n\n\n$45,000\n\n\n\nfavorite this post\n\nMay 29\n\n2016 Ford F-150 Lariat\n\n\n$45,000\n\npic\n4.3mi\n\n\nhide this posting\n\n\n\nrestore\nrestore this posting\n\n\n\n\n_____________________________\n\n\n\n\nfavorite this post\n\nMay 31\n\nPrius 2009\n\n\n$7,900\n (Gilbert)\n\n4.3mi\n\n\nhide this posting\n\n\n\nrestore\nrestore this posting\n\n\n\n\n_____________________________\n\n\n$45,000\n\n\n\nfavorite this post\n\nJun  2\n\n2016 Ford F-150 Lariat\n\n\n$45,000\n\npic\n4.3mi\n\n\nhide this posting\n\n\n\nrestore\nrestore this posting\n\n\n\n\n_____________________________\n\n\n$45,000\n\n\n\nfavorite this post\n\nJun  4\n\nChevrolet Corvette Grand Sport LIKE NEW!\n\n\n$45,000\n (Gilbert)\n\npic\n4.3mi\n\n\nhide this posting\n\n\n\nrestore\nrestore this posting\n\n\n\n\n_____________________________\n\n\n$64,500\n\n\n\nfavorite this post\n\nJun  4\n\n2018 Ford F250 Crew Cab 4wd Lariat 6.7 Powerstroke\n\n\n$64,500\n (Gilbert)\n\npic\n4.3mi\n\n\nhide this posting\n\n\n\nrestore\nrestore this posting\n\n\n\n\n_____________________________\n\n\n$5,500\n\n\n\nfavorite this post\n\nJun  8\n\n2004 BMW 330CI Convertible\n\n\n$5,500\n (Gilbert)\n\npic\n4.3mi\n\n\nhide this posting\n\n\n\nrestore\nrestore this posting\n\n\n\n\n_____________________________\n"
     ]
    }
   ],
   "source": [
    "for car in car_elements:\n",
    "    print(car.text)\n",
    "    print('_____________________________')"
   ]
  },
  {
   "cell_type": "code",
   "execution_count": 91,
   "metadata": {
    "tags": []
   },
   "outputs": [
    {
     "output_type": "stream",
     "name": "stdout",
     "text": [
      "https://phoenix.craigslist.org/evl/cto/d/chandler-2015-bmw-328i-twin-turbo/7320251969.html \n",
      "\n",
      "https://phoenix.craigslist.org/evl/cto/d/chandler-2012-gmc-sierra-1500-sl-2wd/7321340746.html \n",
      "\n",
      "https://phoenix.craigslist.org/evl/cto/d/chandler-2017-tahoe-premier/7321498211.html \n",
      "\n",
      "https://phoenix.craigslist.org/evl/cto/d/chandler-2007-toyota-highlander/7321566025.html \n",
      "\n",
      "https://phoenix.craigslist.org/evl/cto/d/chandler-2004-ford-explorer-sport-track/7321604868.html \n",
      "\n",
      "https://phoenix.craigslist.org/evl/cto/d/chandler-truck-flat-bed-stake-truck/7321633888.html \n",
      "\n",
      "https://phoenix.craigslist.org/evl/cto/d/chandler-2004-toyota-tacoma-v6-extended/7322569015.html \n",
      "\n",
      "https://phoenix.craigslist.org/evl/cto/d/chandler-1995-mint-jeepyj/7323210531.html \n",
      "\n",
      "https://phoenix.craigslist.org/evl/cto/d/chandler-2003-honda-accord/7323224851.html \n",
      "\n",
      "https://phoenix.craigslist.org/evl/cto/d/chandler-1999-gmc-sierra-k1500/7323920685.html \n",
      "\n",
      "https://phoenix.craigslist.org/evl/cto/d/chandler-1999-ford-e350-converted/7325189760.html \n",
      "\n",
      "https://phoenix.craigslist.org/evl/cto/d/chandler-1973-mercedes-450slc/7325407527.html \n",
      "\n",
      "https://phoenix.craigslist.org/evl/cto/d/chandler-superb-2004-bmw-x5-44i-for-sale/7326386156.html \n",
      "\n",
      "https://phoenix.craigslist.org/evl/cto/d/chandler/7326937114.html \n",
      "\n",
      "https://phoenix.craigslist.org/evl/cto/d/chandler-awesome-2008-mazda-cx-with-jdm/7327434310.html \n",
      "\n",
      "https://phoenix.craigslist.org/nph/cto/d/chandler-2021-dodge-ram-2500-laramie/7330474765.html \n",
      "\n",
      "https://phoenix.craigslist.org/evl/cto/d/chandler-jeep-wrangler/7331201672.html \n",
      "\n",
      "https://phoenix.craigslist.org/evl/cto/d/chandler-lower-mileage-2nd-gen-dodge/7331398989.html \n",
      "\n",
      "https://phoenix.craigslist.org/evl/cto/d/chandler-2006-jeep-wrangler-tj/7331684795.html \n",
      "\n",
      "https://phoenix.craigslist.org/evl/cto/d/chandler-2009-scion-tc/7332779974.html \n",
      "\n",
      "https://phoenix.craigslist.org/evl/cto/d/chandler-2006-mini-cooper-convertible/7332796852.html \n",
      "\n",
      "https://phoenix.craigslist.org/evl/cto/d/chandler-2010-range-rover-sport/7333416674.html \n",
      "\n",
      "https://phoenix.craigslist.org/evl/cto/d/chandler-2011-toyota-proud-clean-title/7325208498.html \n",
      "\n",
      "https://phoenix.craigslist.org/evl/cto/d/chandler-2010-chevy-impala-silver/7329046656.html \n",
      "\n",
      "https://phoenix.craigslist.org/evl/cto/d/chandler-2003-ford-150/7324175590.html \n",
      "\n",
      "https://phoenix.craigslist.org/evl/cto/d/chandler-1975-k10/7319882279.html \n",
      "\n",
      "https://phoenix.craigslist.org/evl/cto/d/chandler-2016-toyota-camry-se-for-sale/7326127862.html \n",
      "\n",
      "https://phoenix.craigslist.org/evl/cto/d/chandler-2013-lexus-gs350-44k-miles/7332908234.html \n",
      "\n",
      "https://phoenix.craigslist.org/evl/cto/d/chandler-2011-chevy-silverado-1500-lt/7328079594.html \n",
      "\n",
      "https://phoenix.craigslist.org/evl/cto/d/gilbert-2021-silverado-ltz-62l-max/7332798915.html \n",
      "\n",
      "https://phoenix.craigslist.org/evl/cto/d/chandler-2015-dodge-ram-sport-4x4/7319563183.html \n",
      "\n",
      "https://phoenix.craigslist.org/evl/cto/d/chandler-2015-dodge-ram-sport-4x4/7322955927.html \n",
      "\n",
      "https://phoenix.craigslist.org/evl/cto/d/chandler-2004-toyota-tundra/7333170443.html \n",
      "\n",
      "https://phoenix.craigslist.org/evl/cto/d/gilbert-2013-ford-f150-fx4/7331415887.html \n",
      "\n",
      "https://phoenix.craigslist.org/wvl/cto/d/chandler-2012-ford-mustang/7321177169.html \n",
      "\n",
      "https://phoenix.craigslist.org/evl/cto/d/chandler-2010-ford-taurus-sel/7329376910.html \n",
      "\n",
      "https://phoenix.craigslist.org/evl/cto/d/chandler-2017-nissan-quest-sv/7322109779.html \n",
      "\n",
      "https://phoenix.craigslist.org/evl/cto/d/chandler-2017-nissan-quest-sv/7328893878.html \n",
      "\n",
      "https://phoenix.craigslist.org/evl/cto/d/chandler-2017-nissan-quest-sv/7332195120.html \n",
      "\n",
      "https://phoenix.craigslist.org/evl/cto/d/chandler-2013-police-tahoe-ppv-85k-miles/7325874903.html \n",
      "\n",
      "https://phoenix.craigslist.org/evl/cto/d/chandler-1991-bmw-850i-sale-or-trade/7324106591.html \n",
      "\n",
      "https://phoenix.craigslist.org/evl/cto/d/chandler-2007-150-lariat-97850mi/7333391864.html \n",
      "\n",
      "https://phoenix.craigslist.org/evl/cto/d/chandler-2017-ford-explorer/7327755090.html \n",
      "\n",
      "https://phoenix.craigslist.org/evl/cto/d/chandler-1986-chevrolet-corvette-low/7329495960.html \n",
      "\n",
      "https://phoenix.craigslist.org/evl/cto/d/chandler-2012-jeep-liberty/7330976899.html \n",
      "\n",
      "https://phoenix.craigslist.org/evl/cto/d/chandler-2005-dodge-ram-3500-dually/7330411466.html \n",
      "\n",
      "https://phoenix.craigslist.org/evl/cto/d/chandler-2001-land-rover-se-discovery/7328600134.html \n",
      "\n",
      "https://phoenix.craigslist.org/evl/cto/d/chandler-2001-land-rover-se-discovery/7332155022.html \n",
      "\n",
      "https://phoenix.craigslist.org/evl/cto/d/chandler-2013-ford-explorer-police/7333126574.html \n",
      "\n",
      "https://phoenix.craigslist.org/evl/cto/d/gilbert-2011-lexus-gs350/7328670203.html \n",
      "\n",
      "https://phoenix.craigslist.org/evl/cto/d/chandler-2008-chevy-impala-lt/7333263388.html \n",
      "\n",
      "https://phoenix.craigslist.org/evl/cto/d/gilbert-2006-honda-accord-ex-v6/7326865549.html \n",
      "\n",
      "https://phoenix.craigslist.org/evl/cto/d/chandler-ford-mustang-cobra-svt/7320285373.html \n",
      "\n",
      "https://phoenix.craigslist.org/evl/cto/d/chandler-2008-mini-cooper/7325184768.html \n",
      "\n",
      "https://phoenix.craigslist.org/evl/cto/d/chandler-2018-jeep-wrangler-pending-sale/7331480005.html \n",
      "\n",
      "https://phoenix.craigslist.org/evl/cto/d/chandler-es-350-panoramic-sunroof/7329050161.html \n",
      "\n",
      "https://phoenix.craigslist.org/evl/cto/d/chandler-2021-chevy-silverado-x4-low/7333131906.html \n",
      "\n",
      "https://phoenix.craigslist.org/cph/cto/d/chandler-2014-nissan-versa/7327652662.html \n",
      "\n",
      "https://phoenix.craigslist.org/evl/cto/d/gilbert-2013-porsche-cayenne-turbo/7329478627.html \n",
      "\n",
      "https://phoenix.craigslist.org/evl/cto/d/gilbert-04-ram-2500-cummins-shortbed-4x4/7330685899.html \n",
      "\n",
      "https://phoenix.craigslist.org/evl/cto/d/gilbert-2005-buick-lacrosse/7321728102.html \n",
      "\n",
      "https://phoenix.craigslist.org/evl/cto/d/gilbert-2013-ford-expedition-xl-el-4wd/7331238315.html \n",
      "\n",
      "https://phoenix.craigslist.org/evl/cto/d/gilbert-nissan-sentra-fe-sv-clean/7332127834.html \n",
      "\n",
      "https://phoenix.craigslist.org/cph/cto/d/chandler-2012-chrysler-200-lx-for-sale/7333203833.html \n",
      "\n",
      "https://phoenix.craigslist.org/evl/cto/d/chandler-2012-porsche-cayenne-hybrid/7323908287.html \n",
      "\n",
      "https://phoenix.craigslist.org/evl/cto/d/chandler-2012-porsche-cayenne-hybrid/7330488917.html \n",
      "\n",
      "https://phoenix.craigslist.org/evl/cto/d/chandler-1971-toyota-corona-mark-11/7320710044.html \n",
      "\n",
      "https://phoenix.craigslist.org/evl/cto/d/chandler-1971-toyota-corona-mark-11/7325277443.html \n",
      "\n",
      "https://phoenix.craigslist.org/evl/cto/d/chandler-1971-toyota-corona-mark-11/7327767939.html \n",
      "\n",
      "https://phoenix.craigslist.org/evl/cto/d/chandler-1971-toyota-corona-mark-11/7330954240.html \n",
      "\n",
      "https://phoenix.craigslist.org/evl/cto/d/chandler-2010-mini-cooper-rally-edition/7319287618.html \n",
      "\n",
      "https://phoenix.craigslist.org/evl/cto/d/chandler-06-f250-lifted/7319891239.html \n",
      "\n",
      "https://phoenix.craigslist.org/evl/cto/d/chandler-2018-audi-q5-clean-obo/7321110340.html \n",
      "\n",
      "https://phoenix.craigslist.org/evl/cto/d/chandler-2018-audi-q5-clean-firm/7322468156.html \n",
      "\n",
      "https://phoenix.craigslist.org/evl/cto/d/chandler-2015-nissan-pathfinder/7323515632.html \n",
      "\n",
      "https://phoenix.craigslist.org/evl/cto/d/chandler-2003-acural-tl/7323540082.html \n",
      "\n",
      "https://phoenix.craigslist.org/evl/cto/d/chandler-2004-gmc-sierra/7324058541.html \n",
      "\n",
      "https://phoenix.craigslist.org/evl/cto/d/chandler-jeep-grand-cherokee-2007/7324179632.html \n",
      "\n",
      "https://phoenix.craigslist.org/evl/cto/d/chandler-1988-crew-cab-f350-diesel/7324885820.html \n",
      "\n",
      "https://phoenix.craigslist.org/cph/cto/d/chandler-2006-acura-mdx/7325104219.html \n",
      "\n",
      "https://phoenix.craigslist.org/evl/cto/d/chandler-2006-nissan-maxima-for-sale/7327582084.html \n",
      "\n",
      "https://phoenix.craigslist.org/evl/cto/d/chandler-2008-toyota-corolla/7328131152.html \n",
      "\n",
      "https://phoenix.craigslist.org/evl/cto/d/chandler-1999-toyota-camry-le-original/7328669228.html \n",
      "\n",
      "https://phoenix.craigslist.org/evl/cto/d/chandler-2018-acura-rdx-awd/7329312146.html \n",
      "\n",
      "https://phoenix.craigslist.org/evl/cto/d/chandler-1999-bmw-m3-convertible/7329850146.html \n",
      "\n",
      "https://phoenix.craigslist.org/evl/cto/d/chandler-2015-150-xlt-4x4-door/7330036007.html \n",
      "\n",
      "https://phoenix.craigslist.org/evl/cto/d/chandler-1968-ford-ranchero-gt/7330077298.html \n",
      "\n",
      "https://phoenix.craigslist.org/evl/cto/d/chandler-2007-toyota-tacoma/7331448096.html \n",
      "\n",
      "https://phoenix.craigslist.org/evl/cto/d/chandler-2005-toyota-tacoma-trd-off-road/7331521328.html \n",
      "\n",
      "https://phoenix.craigslist.org/evl/cto/d/chandler-2008-volkswagen-jetta-gli/7331615473.html \n",
      "\n",
      "https://phoenix.craigslist.org/evl/cto/d/chandler-2017-bmw-320i-low-mileage-with/7332281896.html \n",
      "\n",
      "https://phoenix.craigslist.org/evl/cto/d/chandler-2016-acura-mdx-low-miles/7333175026.html \n",
      "\n",
      "https://phoenix.craigslist.org/evl/cto/d/chandler-2012-ford-edge-sel-all/7333199191.html \n",
      "\n",
      "https://phoenix.craigslist.org/evl/cto/d/chandler-2011-lexus-gx460-icon-black/7333751265.html \n",
      "\n",
      "https://phoenix.craigslist.org/evl/cto/d/chandler-2015-ram-wd/7329873588.html \n",
      "\n",
      "https://phoenix.craigslist.org/evl/cto/d/chandler-2017-ford-raptor-super-cab/7330207984.html \n",
      "\n",
      "https://phoenix.craigslist.org/evl/cto/d/chandler-2017-ford-raptor-super-cab/7333087262.html \n",
      "\n",
      "https://phoenix.craigslist.org/evl/cto/d/chandler-2009-gmc-sierra/7324117152.html \n",
      "\n",
      "https://phoenix.craigslist.org/wvl/cto/d/gilbert-car-for-sale-by-owner/7328063922.html \n",
      "\n",
      "https://phoenix.craigslist.org/evl/cto/d/gilbert-ford-150-pickup/7333603022.html \n",
      "\n",
      "https://phoenix.craigslist.org/evl/cto/d/gilbert-mini-cooper-countryman-2017/7329553823.html \n",
      "\n",
      "https://phoenix.craigslist.org/evl/cto/d/chandler-heights-mercedes-c280-luxury/7325165999.html \n",
      "\n",
      "https://phoenix.craigslist.org/wvl/cto/d/gilbert-2004-ram-cummins-4wd/7320852199.html \n",
      "\n",
      "https://phoenix.craigslist.org/evl/cto/d/gilbert-2007-honda-odyssey-ex-for-sale/7322717067.html \n",
      "\n",
      "https://phoenix.craigslist.org/evl/cto/d/gilbert-2000-acura-tl/7323033725.html \n",
      "\n",
      "https://phoenix.craigslist.org/evl/cto/d/gilbert-2013-hyundai-tucson-gls-4dr/7323647874.html \n",
      "\n",
      "https://phoenix.craigslist.org/evl/cto/d/gilbert-2017-toyota-tacoma/7326062265.html \n",
      "\n",
      "https://phoenix.craigslist.org/evl/cto/d/gilbert-2019-ford-mustang-convertible/7327126309.html \n",
      "\n",
      "https://phoenix.craigslist.org/evl/cto/d/gilbert-2013-ford-150-xlt-4x4/7327978228.html \n",
      "\n",
      "https://phoenix.craigslist.org/evl/cto/d/gilbert-2015-city-van-mechanic-special/7327995983.html \n",
      "\n",
      "https://phoenix.craigslist.org/evl/cto/d/gilbert-chevrolet-corvette-grand-sport/7328467487.html \n",
      "\n",
      "https://phoenix.craigslist.org/evl/cto/d/gilbert-2016-ford-150-lariat/7328993250.html \n",
      "\n",
      "https://phoenix.craigslist.org/evl/cto/d/gilbert-2016-ford-150-lariat/7330950803.html \n",
      "\n",
      "https://phoenix.craigslist.org/evl/cto/d/gilbert-chevrolet-corvette-grand-sport/7331864325.html \n",
      "\n",
      "https://phoenix.craigslist.org/evl/cto/d/gilbert-2018-ford-f250-crew-cab-4wd/7331922664.html \n",
      "\n",
      "https://phoenix.craigslist.org/evl/cto/d/gilbert-2004-bmw-330ci-convertible/7333677605.html \n",
      "\n"
     ]
    }
   ],
   "source": [
    "prices = results.find_all('span', class_='result-price')\n",
    "\n",
    "links = results.find_all('a', class_='result-image gallery')\n",
    "\n",
    "for link in links:\n",
    "    print(link['href'], '\\n')"
   ]
  },
  {
   "cell_type": "code",
   "execution_count": 92,
   "metadata": {},
   "outputs": [
    {
     "output_type": "stream",
     "name": "stdout",
     "text": [
      "https://phoenix.craigslist.org/evl/cto/d/chandler-2015-bmw-328i-twin-turbo/7320251969.html\n"
     ]
    }
   ],
   "source": [
    "ex_link = links[0]['href']\n",
    "print(ex_link)\n",
    "\n",
    "ex_page = requests.get(ex_link)\n",
    "ex_soup = BeautifulSoup(ex_page.content, 'html.parser')\n"
   ]
  },
  {
   "cell_type": "code",
   "execution_count": 122,
   "metadata": {},
   "outputs": [
    {
     "output_type": "stream",
     "name": "stdout",
     "text": [
      "2015 BMW 328I Twin Turbo \n\nPRICE:  $17,500 \n\n2\n\n2015 BMW 328i\n\n\n\ncondition: excellent\n\ncylinders: 6 cylinders\n\ndrive: rwd\n\nfuel: gas\n\nodometer: 79000\n\npaint color: white\n\nsize: mid-size\n\ntitle status: clean\n\ntransmission: automatic\n\ntype: sedan\n\n\n"
     ]
    }
   ],
   "source": [
    "attributes = ex_soup.find_all('p', class_='attrgroup')\n",
    "title = ex_soup.find('span', id='titletextonly').text\n",
    "price = ex_soup.find('span', class_='price').text\n",
    "print(title, '\\n')\n",
    "print('PRICE: ', price, '\\n')\n",
    "dicc = {}\n",
    "print(len(attributes))\n",
    "for atr in attributes:\n",
    "    print(atr.text)"
   ]
  },
  {
   "cell_type": "code",
   "execution_count": 114,
   "metadata": {},
   "outputs": [
    {
     "output_type": "stream",
     "name": "stdout",
     "text": [
      "2015 BMW 328i\n_____________________________\ncondition: excellent\ncylinders: 6 cylinders\ndrive: rwd\nfuel: gas\nodometer: 79000\npaint color: white\nsize: mid-size\ntitle status: clean\ntransmission: automatic\ntype: sedan\n_____________________________\n"
     ]
    }
   ],
   "source": [
    "for atr in attributes:\n",
    "    spans = atr.find_all('span')\n",
    "    for span in spans:\n",
    "        text = span.text.strip()\n",
    "        print(text)\n",
    "    print('_____________________________')"
   ]
  },
  {
   "cell_type": "code",
   "execution_count": null,
   "metadata": {},
   "outputs": [],
   "source": []
  },
  {
   "cell_type": "code",
   "execution_count": 116,
   "metadata": {},
   "outputs": [
    {
     "output_type": "stream",
     "name": "stdout",
     "text": [
      "\n\nQR Code Link to This Post\n\n\nAll service completed by dealer. \nNew battery installed by BMW Chapman 9/24/2020. All newer Pirelli Cinturato Run flat tires, fully loaded with sunroof, black leather seats with memory settings , navigation , BT , satellite radio. This car is loaded and has been very well taken care of, garage kept . Oil change was just done and not needed for another 9k miles. Bumper to bumper CPO warranty good through 9/20/21. Call Josh 760-908-536zero    \n"
     ]
    }
   ],
   "source": [
    "posting_body = ex_soup.find('section', {\"id\": \"postingbody\"})\n",
    "print(posting_body.text)"
   ]
  },
  {
   "source": [
    "<h1>Putting info in dictionary </h1>"
   ],
   "cell_type": "markdown",
   "metadata": {}
  },
  {
   "cell_type": "code",
   "execution_count": 134,
   "metadata": {},
   "outputs": [
    {
     "output_type": "stream",
     "name": "stdout",
     "text": [
      "condition:excellent\n['condition', 'excellent']\n\ncylinders:6cylinders\n['cylinders', '6cylinders']\n\ndrive:rwd\n['drive', 'rwd']\n\nfuel:gas\n['fuel', 'gas']\n\nodometer:79000\n['odometer', '79000']\n\npaintcolor:white\n['paintcolor', 'white']\n\nsize:mid-size\n['size', 'mid-size']\n\ntitlestatus:clean\n['titlestatus', 'clean']\n\ntransmission:automatic\n['transmission', 'automatic']\n\ntype:sedan\n['type', 'sedan']\n\n{'c': 'y', 'd': 'r', 'f': 'u', 'o': 'd', 'p': 'a', 's': 'i', 't': 'y'}\n"
     ]
    }
   ],
   "source": [
    "dicc = {}\n",
    "\n",
    "car_properties = attributes[1]\n",
    "spans = car_properties.find_all('span')\n",
    "for span in spans:\n",
    "    text = span.text.replace(' ', '')\n",
    "    print(text)\n",
    "    arr = text.split(':')\n",
    "    print(arr)\n",
    "    print()\n",
    "    \n",
    "    dicc.update({arr[0]: arr[1]})\n",
    "print(dicc)\n",
    "# for atr in attributes:\n",
    "#     spans = atr.find_all('span')\n",
    "#     for span in spans:\n",
    "#         text = span.text.replace(' ', '')\n",
    "#         print(text)\n",
    "#         print(text.split(':'))\n",
    "#         print()\n",
    "#         dicc.update({})\n"
   ]
  },
  {
   "cell_type": "code",
   "execution_count": null,
   "metadata": {},
   "outputs": [],
   "source": []
  },
  {
   "cell_type": "code",
   "execution_count": null,
   "metadata": {},
   "outputs": [],
   "source": []
  }
 ]
}