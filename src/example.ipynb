{
 "metadata": {
  "language_info": {
   "codemirror_mode": {
    "name": "ipython",
    "version": 3
   },
   "file_extension": ".py",
   "mimetype": "text/x-python",
   "name": "python",
   "nbconvert_exporter": "python",
   "pygments_lexer": "ipython3",
   "version": "3.8.5"
  },
  "orig_nbformat": 2,
  "kernelspec": {
   "name": "python385jvsc74a57bd04047d8b07e53f5c2fa58e1a6eef01dd27ba3cc4d3b60a086e986adf8be10e249",
   "display_name": "Python 3.8.5 64-bit ('env': venv)"
  },
  "metadata": {
   "interpreter": {
    "hash": "6762e4d701cd62703bea826587c911fd3c0934eaad31ef86a6400d91a71957fd"
   }
  }
 },
 "nbformat": 4,
 "nbformat_minor": 2,
 "cells": [
  {
   "cell_type": "code",
   "execution_count": null,
   "metadata": {},
   "outputs": [],
   "source": [
    "import requests\n",
    "from bs4 import BeautifulSoup\n",
    "\n",
    "URL = \"https://phoenix.craigslist.org/d/cars-trucks-by-owner/search/cto?postal=85249&search_distance=50\"\n",
    "page = requests.get(URL)"
   ]
  },
  {
   "cell_type": "code",
   "execution_count": null,
   "metadata": {},
   "outputs": [],
   "source": [
    "print(page.status_code)"
   ]
  },
  {
   "cell_type": "code",
   "execution_count": null,
   "metadata": {},
   "outputs": [],
   "source": [
    "soup = BeautifulSoup(page.content, \"html.parser\")"
   ]
  },
  {
   "cell_type": "code",
   "execution_count": null,
   "metadata": {
    "tags": [
     "outputPrepend"
    ]
   },
   "outputs": [],
   "source": [
    "results = soup.find(class_=\"rows\")\n",
    "print(results.prettify())"
   ]
  },
  {
   "cell_type": "code",
   "execution_count": null,
   "metadata": {
    "tags": []
   },
   "outputs": [],
   "source": [
    "car_elements = results.find_all('li', class_=\"result-row\")\n",
    "print(len(car_elements))"
   ]
  },
  {
   "cell_type": "code",
   "execution_count": null,
   "metadata": {
    "tags": [
     "outputPrepend"
    ]
   },
   "outputs": [],
   "source": [
    "for car in car_elements:\n",
    "    print(car.text)\n",
    "    print('_____________________________')"
   ]
  },
  {
   "cell_type": "code",
   "execution_count": null,
   "metadata": {
    "tags": []
   },
   "outputs": [],
   "source": [
    "prices = results.find_all('span', class_='result-price')\n",
    "\n",
    "links = results.find_all('a', class_='result-image gallery')\n",
    "\n",
    "for i in range(len(links)):\n",
    "    links[i] = links[i]['href']\n",
    "\n",
    "for link in links:\n",
    "    print(link, '\\n')"
   ]
  },
  {
   "cell_type": "code",
   "execution_count": null,
   "metadata": {},
   "outputs": [],
   "source": [
    "ex_link = links[0]['href']\n",
    "print(ex_link)\n",
    "\n",
    "ex_page = requests.get(ex_link)\n",
    "ex_soup = BeautifulSoup(ex_page.content, 'html.parser')\n"
   ]
  },
  {
   "cell_type": "code",
   "execution_count": null,
   "metadata": {},
   "outputs": [],
   "source": [
    "attributes = ex_soup.find_all('p', class_='attrgroup')\n",
    "title = ex_soup.find('span', id='titletextonly').text\n",
    "price = ex_soup.find('span', class_='price').text\n",
    "print(title, '\\n')\n",
    "print('PRICE: ', price, '\\n')\n",
    "dicc = {}\n",
    "print(len(attributes))\n",
    "for atr in attributes:\n",
    "    print(atr.text)"
   ]
  },
  {
   "cell_type": "code",
   "execution_count": null,
   "metadata": {},
   "outputs": [],
   "source": [
    "for atr in attributes:\n",
    "    spans = atr.find_all('span')\n",
    "    for span in spans:\n",
    "        text = span.text.strip()\n",
    "        print(text)\n",
    "    print('_____________________________')"
   ]
  },
  {
   "cell_type": "code",
   "execution_count": null,
   "metadata": {},
   "outputs": [],
   "source": []
  },
  {
   "cell_type": "code",
   "execution_count": null,
   "metadata": {},
   "outputs": [],
   "source": [
    "posting_body = ex_soup.find('section', {\"id\": \"postingbody\"})\n",
    "print(posting_body.text)"
   ]
  },
  {
   "source": [
    "<h1>Putting info in dictionary </h1>"
   ],
   "cell_type": "markdown",
   "metadata": {}
  },
  {
   "cell_type": "code",
   "execution_count": null,
   "metadata": {},
   "outputs": [],
   "source": [
    "dicc = {}\n",
    "\n",
    "car_properties = attributes[1]\n",
    "spans = car_properties.find_all('span')\n",
    "for span in spans:\n",
    "    text = span.text.replace(' ', '')\n",
    "    print(text)\n",
    "    arr = text.split(':')\n",
    "    print(arr)\n",
    "    print()\n",
    "    \n",
    "    dicc.update({arr[0]: arr[1]})\n",
    "\n",
    "print('DICTIONARY:', '\\n', dicc)"
   ]
  },
  {
   "cell_type": "code",
   "execution_count": null,
   "metadata": {},
   "outputs": [],
   "source": []
  },
  {
   "cell_type": "code",
   "execution_count": null,
   "metadata": {},
   "outputs": [],
   "source": []
  }
 ]
}